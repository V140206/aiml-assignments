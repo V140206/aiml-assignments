{
 "cells": [
  {
   "cell_type": "code",
   "execution_count": 1,
   "id": "e8fc50cb",
   "metadata": {},
   "outputs": [
    {
     "name": "stdout",
     "output_type": "stream",
     "text": [
      "Enter a positive integer: 19\n",
      "The sum of all even numbers between 1 and 19 is: 90\n"
     ]
    }
   ],
   "source": [
    "# DAY 1 ASSIGNMENT\n",
    "def sum_of_evens(n):\n",
    "    total = 0\n",
    "    for i in range(2, n + 1, 2):  \n",
    "        total += i\n",
    "    return total\n",
    "\n",
    "n = int(input(\"Enter a positive integer: \"))\n",
    "if n > 0:\n",
    "    result = sum_of_evens(n)\n",
    "    print(f\"The sum of all even numbers between 1 and {n} is: {result}\")\n",
    "else:\n",
    "    print(\"Please enter a positive integer.\")\n"
   ]
  },
  {
   "cell_type": "code",
   "execution_count": 4,
   "id": "b7d0f74b",
   "metadata": {},
   "outputs": [
    {
     "name": "stdout",
     "output_type": "stream",
     "text": [
      "Enter a positive integer: 8\n",
      "Numbers from 1 to 8 are:\n",
      "1\n",
      "2\n",
      "3\n",
      "4\n",
      "5\n",
      "6\n",
      "7\n",
      "8\n",
      "The sum of all numbers from 1 to 8 is: 36\n"
     ]
    }
   ],
   "source": [
    "# DAY 5 ASSIGNMENT\n",
    "def main():\n",
    "    \n",
    "    n = int(input(\"Enter a positive integer: \"))\n",
    "    \n",
    "    if n <= 0:\n",
    "        print(\"Please enter a positive integer greater than 0.\")\n",
    "        return\n",
    "    \n",
    "    print(\"Numbers from 1 to\", n, \"are:\")\n",
    "    for i in range(1, n + 1):\n",
    "        print(i)\n",
    "    total = 0\n",
    "    i = 1\n",
    "    while i <= n:\n",
    "        total += i\n",
    "        i += 1\n",
    "    \n",
    "    print(f\"The sum of all numbers from 1 to {n} is: {total}\")\n",
    "\n",
    "# Run the main function\n",
    "main()\n"
   ]
  },
  {
   "cell_type": "code",
   "execution_count": 5,
   "id": "5a197acb",
   "metadata": {},
   "outputs": [
    {
     "name": "stdout",
     "output_type": "stream",
     "text": [
      "Enter a positive integer: 7\n",
      "The square of 7 is: 49\n"
     ]
    }
   ],
   "source": [
    "#DAY 5 ASSIGNMENT 2\n",
    "def calculate_square(n):\n",
    "    return n * n\n",
    "\n",
    "def main():\n",
    "    n = int(input(\"Enter a positive integer: \"))\n",
    "    \n",
    "    if n <= 0:\n",
    "        print(\"Please enter a positive integer greater than 0.\")\n",
    "        return\n",
    "    result = calculate_square(n)\n",
    "    print(f\"The square of {n} is: {result}\")\n",
    "\n",
    "# Run the main function\n",
    "main()\n"
   ]
  },
  {
   "cell_type": "code",
   "execution_count": null,
   "id": "623d3e5f",
   "metadata": {},
   "outputs": [],
   "source": []
  }
 ],
 "metadata": {
  "kernelspec": {
   "display_name": "Python 3 (ipykernel)",
   "language": "python",
   "name": "python3"
  },
  "language_info": {
   "codemirror_mode": {
    "name": "ipython",
    "version": 3
   },
   "file_extension": ".py",
   "mimetype": "text/x-python",
   "name": "python",
   "nbconvert_exporter": "python",
   "pygments_lexer": "ipython3",
   "version": "3.11.5"
  }
 },
 "nbformat": 4,
 "nbformat_minor": 5
}
