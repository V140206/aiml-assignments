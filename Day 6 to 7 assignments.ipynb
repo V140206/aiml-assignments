{
 "cells": [
  {
   "cell_type": "code",
   "execution_count": 1,
   "id": "5fb7f32e",
   "metadata": {},
   "outputs": [
    {
     "name": "stdout",
     "output_type": "stream",
     "text": [
      "    Name  Age Department  Salary\n",
      "0   John   28         HR   45000\n",
      "1  Alice   34         IT   60000\n",
      "2    Bob   23  Marketing   35000\n",
      "3  Diana   29    Finance   50000\n"
     ]
    }
   ],
   "source": [
    "# DAY 6 ASSIGNMENT 1\n",
    "import pandas as pd\n",
    "\n",
    "data = {\n",
    "    'Name': ['John', 'Alice', 'Bob', 'Diana'],\n",
    "    'Age': [28, 34, 23, 29],\n",
    "    'Department': ['HR', 'IT', 'Marketing', 'Finance'],\n",
    "    'Salary': [45000, 60000, 35000, 50000]\n",
    "}\n",
    "df = pd.DataFrame(data)\n",
    "\n",
    "print(df)\n"
   ]
  },
  {
   "cell_type": "code",
   "execution_count": 2,
   "id": "0199460c",
   "metadata": {},
   "outputs": [
    {
     "name": "stdout",
     "output_type": "stream",
     "text": [
      "First 2 rows of the DataFrame:\n",
      "    Name  Age Department  Salary\n",
      "0   John   28         HR   45000\n",
      "1  Alice   34         IT   60000\n",
      "\n",
      "DataFrame with the Bonus column added:\n",
      "    Name  Age Department  Salary   Bonus\n",
      "0   John   28         HR   45000  4500.0\n",
      "1  Alice   34         IT   60000  6000.0\n",
      "2    Bob   23  Marketing   35000  3500.0\n",
      "3  Diana   29    Finance   50000  5000.0\n",
      "\n",
      "The average salary of employees is: 47500.0\n",
      "\n",
      "Employees who are older than 25:\n",
      "    Name  Age Department  Salary   Bonus\n",
      "0   John   28         HR   45000  4500.0\n",
      "1  Alice   34         IT   60000  6000.0\n",
      "3  Diana   29    Finance   50000  5000.0\n"
     ]
    }
   ],
   "source": [
    "#DAy 6 ASSIGNMENT 2\n",
    "import pandas as pd\n",
    "\n",
    "data = {\n",
    "    'Name': ['John', 'Alice', 'Bob', 'Diana'],\n",
    "    'Age': [28, 34, 23, 29],\n",
    "    'Department': ['HR', 'IT', 'Marketing', 'Finance'],\n",
    "    'Salary': [45000, 60000, 35000, 50000]\n",
    "}\n",
    "\n",
    "df = pd.DataFrame(data)\n",
    "\n",
    "print(\"First 2 rows of the DataFrame:\")\n",
    "print(df.head(2))\n",
    "print()\n",
    "\n",
    "df['Bonus'] = df['Salary'] * 0.10\n",
    "\n",
    "print(\"DataFrame with the Bonus column added:\")\n",
    "print(df)\n",
    "print()\n",
    "\n",
    "average_salary = df['Salary'].mean()\n",
    "print(f\"The average salary of employees is: {average_salary}\")\n",
    "print()\n",
    "\n",
    "filtered_employees = df[df['Age'] > 25]\n",
    "print(\"Employees who are older than 25:\")\n",
    "print(filtered_employees)\n"
   ]
  },
  {
   "cell_type": "code",
   "execution_count": 4,
   "id": "ffe233d6",
   "metadata": {},
   "outputs": [
    {
     "name": "stdout",
     "output_type": "stream",
     "text": [
      "First 5 rows of the dataset:\n",
      "  Manufacturer    Model  Sales_in_thousands  __year_resale_value Vehicle_type  \\\n",
      "0        Acura  Integra              16.919               16.360    Passenger   \n",
      "1        Acura       TL              39.384               19.875    Passenger   \n",
      "2        Acura       RL               8.588               29.725    Passenger   \n",
      "3         Audi       A4              20.397               22.255    Passenger   \n",
      "4         Audi       A6              18.780               23.555    Passenger   \n",
      "\n",
      "   Price_in_thousands  Engine_size  Horsepower  Wheelbase  Width  Length  \\\n",
      "0               21.50          1.8         140      101.2   67.3   172.4   \n",
      "1               28.40          3.2         225      108.1   70.3   192.9   \n",
      "2               42.00          3.5         210      114.6   71.4   196.6   \n",
      "3               23.99          1.8         150      102.6   68.2   178.0   \n",
      "4               33.95          2.8         200      108.7   76.1   192.0   \n",
      "\n",
      "   Curb_weight  Fuel_capacity  Fuel_efficiency Latest_Launch  \\\n",
      "0        2.639           13.2               28      2/2/2012   \n",
      "1        3.517           17.2               25      6/3/2011   \n",
      "2        3.850           18.0               22     3/10/2011   \n",
      "3        2.998           16.4               27     10/8/2011   \n",
      "4        3.561           18.5               22      8/9/2011   \n",
      "\n",
      "   Power_perf_factor  \n",
      "0          58.280150  \n",
      "1          91.370778  \n",
      "2          91.389779  \n",
      "3          62.777639  \n",
      "4          84.565105  \n",
      "\n",
      "Basic statistics of the numerical columns:\n",
      "       Sales_in_thousands  __year_resale_value  Price_in_thousands  \\\n",
      "count          117.000000           117.000000          117.000000   \n",
      "mean            59.112316            18.031538           25.969487   \n",
      "std             75.058933            11.605632           14.149699   \n",
      "min              0.110000             5.160000            9.235000   \n",
      "25%             16.767000            11.240000           16.980000   \n",
      "50%             32.299000            14.010000           21.665000   \n",
      "75%             76.029000            19.875000           29.465000   \n",
      "max            540.561000            67.550000           82.600000   \n",
      "\n",
      "       Engine_size  Horsepower   Wheelbase       Width      Length  \\\n",
      "count   117.000000  117.000000  117.000000  117.000000  117.000000   \n",
      "mean      3.048718  181.282051  107.326496   71.189744  187.717949   \n",
      "std       1.055169   58.591786    8.050588    3.530151   13.849926   \n",
      "min       1.000000   55.000000   92.600000   62.600000  149.400000   \n",
      "25%       2.200000  140.000000  102.400000   68.500000  177.500000   \n",
      "50%       3.000000  175.000000  107.000000   70.400000  187.800000   \n",
      "75%       3.800000  210.000000  111.600000   73.600000  196.500000   \n",
      "max       8.000000  450.000000  138.700000   79.300000  224.500000   \n",
      "\n",
      "       Curb_weight  Fuel_capacity  Fuel_efficiency  Power_perf_factor  \n",
      "count   117.000000     117.000000       117.000000         117.000000  \n",
      "mean      3.324051      17.812821        24.119658          74.930921  \n",
      "std       0.597177       3.794609         4.404470          25.771796  \n",
      "min       1.895000      10.300000        15.000000          23.276272  \n",
      "25%       2.911000      15.300000        22.000000          55.297117  \n",
      "50%       3.340000      17.200000        24.000000          70.660942  \n",
      "75%       3.823000      19.800000        26.000000          85.828408  \n",
      "max       5.115000      32.000000        45.000000         188.144323  \n"
     ]
    }
   ],
   "source": [
    "# DAY 7 ASSignment\n",
    "import pandas as pd\n",
    "\n",
    "df = pd.read_csv('Car_sales.csv')\n",
    "\n",
    "print(\"First 5 rows of the dataset:\")\n",
    "print(df.head())\n",
    "\n",
    "print(\"\\nBasic statistics of the numerical columns:\")\n",
    "print(df.describe())\n"
   ]
  },
  {
   "cell_type": "code",
   "execution_count": null,
   "id": "26992026",
   "metadata": {},
   "outputs": [],
   "source": []
  }
 ],
 "metadata": {
  "kernelspec": {
   "display_name": "Python 3 (ipykernel)",
   "language": "python",
   "name": "python3"
  },
  "language_info": {
   "codemirror_mode": {
    "name": "ipython",
    "version": 3
   },
   "file_extension": ".py",
   "mimetype": "text/x-python",
   "name": "python",
   "nbconvert_exporter": "python",
   "pygments_lexer": "ipython3",
   "version": "3.11.5"
  }
 },
 "nbformat": 4,
 "nbformat_minor": 5
}
