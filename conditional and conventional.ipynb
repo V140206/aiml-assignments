{
 "cells": [
  {
   "cell_type": "code",
   "execution_count": 9,
   "id": "da1c991b-f3ce-4846-9bc4-376ad109cabc",
   "metadata": {},
   "outputs": [
    {
     "name": "stdout",
     "output_type": "stream",
     "text": [
      "even\n"
     ]
    }
   ],
   "source": [
    "num = 10\n",
    "if num % 2 == 0:\n",
    "    print(\"even\")\n",
    "else:\n",
    "    print(\"odd\")"
   ]
  },
  {
   "cell_type": "code",
   "execution_count": 11,
   "id": "03e9993d-58ba-41ac-9a66-a9f6a8ac5d2d",
   "metadata": {},
   "outputs": [
    {
     "name": "stdout",
     "output_type": "stream",
     "text": [
      "even\n"
     ]
    }
   ],
   "source": [
    "print(\"even\") if num % 2 == 0 else print(\"odd\")"
   ]
  },
  {
   "cell_type": "code",
   "execution_count": 13,
   "id": "c1c104d4-2bd5-4dad-b489-101a62399adb",
   "metadata": {},
   "outputs": [
    {
     "name": "stdout",
     "output_type": "stream",
     "text": [
      "Positive\n"
     ]
    }
   ],
   "source": [
    "x = 10\n",
    "result = \"Positive\" if x > 0 else \"Negative\"\n",
    "print(result)"
   ]
  },
  {
   "cell_type": "code",
   "execution_count": 16,
   "id": "144b6ec0-8318-44d5-a79b-ff8ded79eea7",
   "metadata": {},
   "outputs": [
    {
     "name": "stdin",
     "output_type": "stream",
     "text": [
      "Enter a number:  -300\n"
     ]
    },
    {
     "name": "stdout",
     "output_type": "stream",
     "text": [
      "Negative\n"
     ]
    }
   ],
   "source": [
    "num = int(input(\"Enter a number: \"))\n",
    "result = \"Positive\" if num > 0 else (\"Negative\" if num < 0 else \"Zero\")\n",
    "print(result)"
   ]
  },
  {
   "cell_type": "code",
   "execution_count": 20,
   "id": "7862b923-6480-436c-855a-7721560d5d28",
   "metadata": {},
   "outputs": [
    {
     "name": "stdin",
     "output_type": "stream",
     "text": [
      "Enter a number:  -200\n"
     ]
    },
    {
     "name": "stdout",
     "output_type": "stream",
     "text": [
      "Positive\n"
     ]
    }
   ],
   "source": [
    "num = int(input(\"Enter a number: \"))\n",
    "result = \"Positive\" if num < 0 else (\"Negative\" if num > 0 else \"Zero\")\n",
    "print(result)"
   ]
  },
  {
   "cell_type": "code",
   "execution_count": 27,
   "id": "9efb0fe9-fd9f-419f-ba0d-8d5576926415",
   "metadata": {},
   "outputs": [
    {
     "data": {
      "text/plain": [
       "[2, 4, 6, 8, 12, 16, 18]"
      ]
     },
     "execution_count": 27,
     "metadata": {},
     "output_type": "execute_result"
    }
   ],
   "source": [
    "l = [1,2,3,4,6,8,9]\n",
    "[2*x for x in l]"
   ]
  },
  {
   "cell_type": "code",
   "execution_count": 30,
   "id": "c90bb7e1-ca57-481c-a682-59cf02ef34da",
   "metadata": {},
   "outputs": [
    {
     "data": {
      "text/plain": [
       "[2, 10, 56]"
      ]
     },
     "execution_count": 30,
     "metadata": {},
     "output_type": "execute_result"
    }
   ],
   "source": [
    "#print even numbers\n",
    "l = [1,9,2,10,56,89]\n",
    "[x for x in l if x%2 == 0]"
   ]
  },
  {
   "cell_type": "code",
   "execution_count": 32,
   "id": "7561c238-9f1e-4cee-8136-2303f3655729",
   "metadata": {},
   "outputs": [
    {
     "data": {
      "text/plain": [
       "[1, 9, 89]"
      ]
     },
     "execution_count": 32,
     "metadata": {},
     "output_type": "execute_result"
    }
   ],
   "source": [
    "#print odd numbers\n",
    "l = [1,9,2,10,56,89]\n",
    "[x for x in l if x%2 != 0]"
   ]
  },
  {
   "cell_type": "code",
   "execution_count": 45,
   "id": "bd059406-2e3d-4700-9c16-3a22d7f4ebc1",
   "metadata": {},
   "outputs": [
    {
     "data": {
      "text/plain": [
       "[48000.0, 60000, 80000, 54000.0]"
      ]
     },
     "execution_count": 45,
     "metadata": {},
     "output_type": "execute_result"
    }
   ],
   "source": [
    "# print updated salaries\n",
    "# condition is given 20% hike for\n",
    "# salaries <= 5000\n",
    "sal = [40000,60000,80000,45000]\n",
    "[(x*1.2 if x <= 50000 else x) for x in sal]  "
   ]
  },
  {
   "cell_type": "code",
   "execution_count": 47,
   "id": "2f1734c8-b913-4089-891e-1c86e0a4b170",
   "metadata": {},
   "outputs": [
    {
     "data": {
      "text/plain": [
       "{'naveen': [70, 50, 60, 80], 'varun': [60, 70, 80, 90]}"
      ]
     },
     "execution_count": 47,
     "metadata": {},
     "output_type": "execute_result"
    }
   ],
   "source": [
    "# dictionary comprehension\n",
    "d1 = {'naveen':[70,50,60,80], 'varun':[60,70,80,90]}\n",
    "d1"
   ]
  },
  {
   "cell_type": "code",
   "execution_count": 52,
   "id": "991cf277-be17-46a6-bcd0-9cf11fb61cab",
   "metadata": {},
   "outputs": [
    {
     "data": {
      "text/plain": [
       "{'naveen': 65.0, 'varun': 75.0}"
      ]
     },
     "execution_count": 52,
     "metadata": {},
     "output_type": "execute_result"
    }
   ],
   "source": [
    "{b:sum(v)/len(v) for b,v in d1.items()}"
   ]
  },
  {
   "cell_type": "code",
   "execution_count": 67,
   "id": "61856395-cb7d-4b7b-95b2-efd5e81ba5fd",
   "metadata": {},
   "outputs": [],
   "source": [
    "# define function (reusable)\n",
    "def mean_value(given_list):\n",
    "    total = sum(given_list)\n",
    "    average_value = total/len(given_list)\n",
    "    return average_value"
   ]
  },
  {
   "cell_type": "code",
   "execution_count": 69,
   "id": "833963e5-e378-4300-9505-a76811cda02b",
   "metadata": {},
   "outputs": [
    {
     "data": {
      "text/plain": [
       "5.5"
      ]
     },
     "execution_count": 69,
     "metadata": {},
     "output_type": "execute_result"
    }
   ],
   "source": [
    "l = [1,2,3,4,5,6,7,8,9,10]\n",
    "mean_value(l)"
   ]
  },
  {
   "cell_type": "code",
   "execution_count": 83,
   "id": "0ff3f042-4856-4a23-bf91-fb5b294e7ff7",
   "metadata": {},
   "outputs": [
    {
     "name": "stdout",
     "output_type": "stream",
     "text": [
      "good affternoon vinay!\n"
     ]
    }
   ],
   "source": [
    "def greet(name = \"vinay\"):\n",
    "    print(f\"good affternoon {name}!\")\n",
    "greet()"
   ]
  },
  {
   "cell_type": "code",
   "execution_count": 93,
   "id": "0d4b33bc-1009-4258-9b99-a0b77282feaf",
   "metadata": {},
   "outputs": [],
   "source": [
    "# Variable number of arguments\n",
    "def avg_value(*n):\n",
    "    l = len(n)\n",
    "    avge = sum(n)/l\n",
    "    return avge"
   ]
  },
  {
   "cell_type": "code",
   "execution_count": 95,
   "id": "2ca7af77-8d9a-4835-bfe9-8e356e8d8fd8",
   "metadata": {},
   "outputs": [
    {
     "data": {
      "text/plain": [
       "31.0"
      ]
     },
     "execution_count": 95,
     "metadata": {},
     "output_type": "execute_result"
    }
   ],
   "source": [
    "avg_value(10,20,30,45,50)"
   ]
  },
  {
   "cell_type": "code",
   "execution_count": null,
   "id": "d3c24326-49b9-4e33-af46-3f87fa515bee",
   "metadata": {},
   "outputs": [],
   "source": []
  },
  {
   "cell_type": "code",
   "execution_count": null,
   "id": "2141a55f-2101-4b16-a6fb-572b1d4b7585",
   "metadata": {},
   "outputs": [],
   "source": []
  }
 ],
 "metadata": {
  "kernelspec": {
   "display_name": "Python 3 (ipykernel)",
   "language": "python",
   "name": "python3"
  },
  "language_info": {
   "codemirror_mode": {
    "name": "ipython",
    "version": 3
   },
   "file_extension": ".py",
   "mimetype": "text/x-python",
   "name": "python",
   "nbconvert_exporter": "python",
   "pygments_lexer": "ipython3",
   "version": "3.12.7"
  }
 },
 "nbformat": 4,
 "nbformat_minor": 5
}
