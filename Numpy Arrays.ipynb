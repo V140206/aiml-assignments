{
 "cells": [
  {
   "cell_type": "code",
   "execution_count": 5,
   "id": "e2874745-0484-4c96-b0b4-8af8b79c48c3",
   "metadata": {},
   "outputs": [
    {
     "name": "stdout",
     "output_type": "stream",
     "text": [
      "[45 67 89 60]\n",
      "<class 'numpy.ndarray'>\n",
      "int32\n"
     ]
    }
   ],
   "source": [
    "#Import numpy library\n",
    "import numpy as np\n",
    "#create 1D numpy array\n",
    "x = np.array([45,67,89,60])\n",
    "print(x)\n",
    "print(type(x))\n",
    "print(x.dtype)"
   ]
  },
  {
   "cell_type": "code",
   "execution_count": 17,
   "id": "06e26c00-a1d1-4440-9782-0e535744165e",
   "metadata": {},
   "outputs": [
    {
     "name": "stdout",
     "output_type": "stream",
     "text": [
      "['A' '67' '89' '60']\n",
      "<class 'numpy.ndarray'>\n",
      "<U11\n"
     ]
    }
   ],
   "source": [
    "# Verify the date type\n",
    "x = np.array(['A',67,89,60])\n",
    "print(x)\n",
    "print(type(x))\n",
    "print(x.dtype)"
   ]
  },
  {
   "cell_type": "code",
   "execution_count": 13,
   "id": "5f00cb77-1da0-4c51-afeb-aec9c4fa66dd",
   "metadata": {},
   "outputs": [
    {
     "name": "stdout",
     "output_type": "stream",
     "text": [
      "[[45 67]\n",
      " [89 60]]\n",
      "<class 'numpy.ndarray'>\n",
      "(2, 2)\n"
     ]
    }
   ],
   "source": [
    "#create 2D numpy array\n",
    "x = np.array([[45,67],[89,60]])\n",
    "print(x)\n",
    "print(type(x))\n",
    "print(x.shape)"
   ]
  },
  {
   "cell_type": "code",
   "execution_count": 19,
   "id": "667e0a3b-2931-47d4-afec-adeb3f199c23",
   "metadata": {},
   "outputs": [
    {
     "name": "stdout",
     "output_type": "stream",
     "text": [
      "[[10 20]\n",
      " [30 40]]\n",
      "(2, 2)\n"
     ]
    }
   ],
   "source": [
    "# Reshaping an array\n",
    "a = np.array([10,20,30,40])\n",
    "b = a.reshape(2,2)\n",
    "print(b)\n",
    "print(b.shape)"
   ]
  },
  {
   "cell_type": "code",
   "execution_count": 23,
   "id": "95b55100-9708-4328-9bdc-b45e623742be",
   "metadata": {},
   "outputs": [
    {
     "name": "stdout",
     "output_type": "stream",
     "text": [
      "[[10]\n",
      " [20]\n",
      " [30]\n",
      " [40]]\n",
      "(4, 1)\n"
     ]
    }
   ],
   "source": [
    "# Reshaping an array\n",
    "a = np.array([10,20,30,40])\n",
    "b = a.reshape(4,1)\n",
    "print(b)\n",
    "print(b.shape)"
   ]
  },
  {
   "cell_type": "code",
   "execution_count": 21,
   "id": "07135bf0-4865-4537-8f0c-ce1e59fa5e65",
   "metadata": {},
   "outputs": [
    {
     "name": "stdout",
     "output_type": "stream",
     "text": [
      "[ 3  4  5  6  7  8  9 10 11 12 13 14 15 16 17 18 19]\n",
      "<class 'numpy.ndarray'>\n"
     ]
    }
   ],
   "source": [
    "# create an array with arange()\n",
    "c = np.arange(3,20)\n",
    "print(c)\n",
    "print(type(c))"
   ]
  },
  {
   "cell_type": "code",
   "execution_count": 27,
   "id": "73cea330-0d49-4ec4-93ce-eec8813c453a",
   "metadata": {},
   "outputs": [
    {
     "name": "stdout",
     "output_type": "stream",
     "text": [
      "[1.34567  3.103336 4.288889]\n"
     ]
    },
    {
     "data": {
      "text/plain": [
       "array([1.35, 3.1 , 4.29])"
      ]
     },
     "execution_count": 27,
     "metadata": {},
     "output_type": "execute_result"
    }
   ],
   "source": [
    "# Use of around()\n",
    "d = np.array([1.34567, 3.103336, 4.288889])\n",
    "print(d)\n",
    "np.around(d,2)"
   ]
  },
  {
   "cell_type": "code",
   "execution_count": 29,
   "id": "d2ed7121-d6b4-4ecb-9e5d-41e278ef918d",
   "metadata": {},
   "outputs": [
    {
     "name": "stdout",
     "output_type": "stream",
     "text": [
      "[1.34567  3.103336 4.288889]\n",
      "[1.16 1.76 2.07]\n"
     ]
    }
   ],
   "source": [
    "# Use of np.sqrt()\n",
    "d = np.array([1.34567, 3.103336, 4.288889])\n",
    "print(d)\n",
    "print(np.around(np.sqrt(d),2))"
   ]
  },
  {
   "cell_type": "code",
   "execution_count": 33,
   "id": "3c356043-a87d-482c-abba-ffab965b8b35",
   "metadata": {},
   "outputs": [
    {
     "name": "stdout",
     "output_type": "stream",
     "text": [
      "[[ 3.  4.  5.  6.]\n",
      " [ 7.  5.  2. nan]]\n",
      "float64\n",
      "(2, 4)\n"
     ]
    }
   ],
   "source": [
    "# 2D array\n",
    "a1 = np.array([[3,4,5,6],[7,5,2, np.NAN]])\n",
    "print(a1)\n",
    "print(a1.dtype)\n",
    "print(a1.shape)"
   ]
  },
  {
   "cell_type": "code",
   "execution_count": 19,
   "id": "0800e86c-875f-4b18-bce1-3dd7eb203d63",
   "metadata": {},
   "outputs": [
    {
     "data": {
      "text/plain": [
       "array([[ 3,  4,  5],\n",
       "       [ 6,  8,  7],\n",
       "       [10,  4,  5]])"
      ]
     },
     "execution_count": 19,
     "metadata": {},
     "output_type": "execute_result"
    }
   ],
   "source": [
    "# Mathamatical operations on rows and cols\n",
    "a2 = np.array([[3,4,5],[6,8,7],[10,4,5]])\n",
    "a2"
   ]
  },
  {
   "cell_type": "code",
   "execution_count": 5,
   "id": "c8c91538-77a3-4bda-a85e-9f1cc9761340",
   "metadata": {},
   "outputs": [
    {
     "name": "stdout",
     "output_type": "stream",
     "text": [
      "[12 21 19]\n",
      "[19 16 17]\n"
     ]
    }
   ],
   "source": [
    "print(a2.sum(axis = 1))\n",
    "print(a2.sum(axis = 0))"
   ]
  },
  {
   "cell_type": "code",
   "execution_count": 7,
   "id": "c3871949-d3da-4f47-9257-00573f3b203c",
   "metadata": {},
   "outputs": [
    {
     "name": "stdout",
     "output_type": "stream",
     "text": [
      "[[ 3  4  5]\n",
      " [ 6  8  7]\n",
      " [10  4  5]]\n",
      "[4.         7.         6.33333333]\n",
      "[6.33333333 5.33333333 5.66666667]\n"
     ]
    }
   ],
   "source": [
    "# Find mean value a long row and cols\n",
    "print(a2)\n",
    "print(a2.mean(axis = 1))\n",
    "print(a2.mean(axis = 0))"
   ]
  },
  {
   "cell_type": "code",
   "execution_count": 9,
   "id": "e71c6e37-48d0-4bd8-a8eb-2213d180bd72",
   "metadata": {},
   "outputs": [
    {
     "data": {
      "text/plain": [
       "array([[ 3,  4,  5],\n",
       "       [ 6,  8,  7],\n",
       "       [10,  4,  5]])"
      ]
     },
     "execution_count": 9,
     "metadata": {},
     "output_type": "execute_result"
    }
   ],
   "source": [
    "#Matrix operations\n",
    "a2 = np.array([[3,4,5],[6,8,7],[10,4,5]])\n",
    "a2"
   ]
  },
  {
   "cell_type": "code",
   "execution_count": 17,
   "id": "42b3fa63-81f5-4979-b842-416f132632ef",
   "metadata": {},
   "outputs": [
    {
     "name": "stdout",
     "output_type": "stream",
     "text": [
      "[[ 3  4  5]\n",
      " [ 6  8  7]\n",
      " [10  4  5]]\n",
      "[[ 0  4  5]\n",
      " [ 6  0  7]\n",
      " [10  4  0]]\n"
     ]
    }
   ],
   "source": [
    "a2 = np.array([[3,4,5],[6,8,7],[10,4,5]])\n",
    "print(a2)\n",
    "np.fill_diagonal(a2,0)\n",
    "print(a2)"
   ]
  },
  {
   "cell_type": "code",
   "execution_count": 35,
   "id": "8d65bea7-0b85-4796-b5a4-6ead6f7cce31",
   "metadata": {},
   "outputs": [
    {
     "name": "stdout",
     "output_type": "stream",
     "text": [
      "[[ 3  4  5]\n",
      " [ 6  8  7]\n",
      " [10  4  5]\n",
      " [10  9 18]]\n",
      "8\n"
     ]
    }
   ],
   "source": [
    "# Accesing the array elements\n",
    "a4 = np.array([[3,4,5],[6,8,7],[10,4,5],[10,9,18]])\n",
    "print(a4)\n",
    "print(a4[1][1])"
   ]
  },
  {
   "cell_type": "code",
   "execution_count": null,
   "id": "a4a100bf-db5e-4ffe-b7dd-d45b17027310",
   "metadata": {},
   "outputs": [],
   "source": []
  }
 ],
 "metadata": {
  "kernelspec": {
   "display_name": "Python 3 (ipykernel)",
   "language": "python",
   "name": "python3"
  },
  "language_info": {
   "codemirror_mode": {
    "name": "ipython",
    "version": 3
   },
   "file_extension": ".py",
   "mimetype": "text/x-python",
   "name": "python",
   "nbconvert_exporter": "python",
   "pygments_lexer": "ipython3",
   "version": "3.12.7"
  }
 },
 "nbformat": 4,
 "nbformat_minor": 5
}
