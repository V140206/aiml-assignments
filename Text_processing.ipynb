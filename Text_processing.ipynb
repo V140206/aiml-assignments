{
 "cells": [
  {
   "cell_type": "code",
   "execution_count": 9,
   "id": "2996fc74",
   "metadata": {},
   "outputs": [],
   "source": [
    "def remove_punc(input_text):\n",
    "    punc_marks = ['.',',','\"','}','{',';',':','-','?','$',')','(']\n",
    "\n",
    "    output_text = \"\"\n",
    "    for char in input_text:\n",
    "        if char not in punc_marks:\n",
    "            output_text += char\n",
    "    return output_text"
   ]
  },
  {
   "cell_type": "code",
   "execution_count": 16,
   "id": "fb00573e",
   "metadata": {},
   "outputs": [
    {
     "data": {
      "text/plain": [
       "'Is it is not correct any problem you'"
      ]
     },
     "execution_count": 16,
     "metadata": {},
     "output_type": "execute_result"
    }
   ],
   "source": [
    "def remove_stopwords(input_text):\n",
    "    stop_words = [\"an\",\"and\",\"a\",\"in\",\"on\",\"at\",\"at\",\"to\",\"for\"]\n",
    "    \n",
    "    words = input_text.split()\n",
    "    \n",
    "    filtered_words = []\n",
    "    for word in words:\n",
    "        if word.lower() not in stop_words:\n",
    "            filtered_words.append(word)\n",
    "    output_text = ' '.join(filtered_words)\n",
    "    return(output_text)\n",
    "remove_stopwords(\" Is it is not correct any problem an and you\")"
   ]
  },
  {
   "cell_type": "code",
   "execution_count": null,
   "id": "e4626b89",
   "metadata": {},
   "outputs": [],
   "source": []
  },
  {
   "cell_type": "code",
   "execution_count": null,
   "id": "ce766cb8",
   "metadata": {},
   "outputs": [],
   "source": []
  },
  {
   "cell_type": "code",
   "execution_count": null,
   "id": "4646a470",
   "metadata": {},
   "outputs": [],
   "source": []
  }
 ],
 "metadata": {
  "kernelspec": {
   "display_name": "Python 3 (ipykernel)",
   "language": "python",
   "name": "python3"
  },
  "language_info": {
   "codemirror_mode": {
    "name": "ipython",
    "version": 3
   },
   "file_extension": ".py",
   "mimetype": "text/x-python",
   "name": "python",
   "nbconvert_exporter": "python",
   "pygments_lexer": "ipython3",
   "version": "3.11.5"
  }
 },
 "nbformat": 4,
 "nbformat_minor": 5
}
