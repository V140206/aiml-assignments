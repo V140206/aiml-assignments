{
 "cells": [
  {
   "cell_type": "code",
   "execution_count": null,
   "id": "f9a47bd6-b558-44dc-80ef-f181b9bf15e1",
   "metadata": {},
   "outputs": [],
   "source": [
    "greet = lambda name : print(f\"Good Morning {name}!\")\n",
    "greet(\"Naveen\")"
   ]
  },
  {
   "cell_type": "code",
   "execution_count": null,
   "id": "f9510f4b-bf08-45c4-bf5d-0b445c11108b",
   "metadata": {},
   "outputs": [],
   "source": [
    "product = lambda x,y,z: x*y*z\n",
    "product(10,20,30)"
   ]
  },
  {
   "cell_type": "code",
   "execution_count": null,
   "id": "839d763e-e5c0-42e0-b166-74b6d157de25",
   "metadata": {},
   "outputs": [],
   "source": [
    "even = lambda L : [x for x in L if x%2 == 0]\n",
    "my_list=[100,3,9,5,8,7]\n",
    "even(my_list)"
   ]
  }
 ],
 "metadata": {
  "kernelspec": {
   "display_name": "Python 3 (ipykernel)",
   "language": "python",
   "name": "python3"
  },
  "language_info": {
   "codemirror_mode": {
    "name": "ipython",
    "version": 3
   },
   "file_extension": ".py",
   "mimetype": "text/x-python",
   "name": "python",
   "nbconvert_exporter": "python",
   "pygments_lexer": "ipython3",
   "version": "3.12.7"
  }
 },
 "nbformat": 4,
 "nbformat_minor": 5
}
